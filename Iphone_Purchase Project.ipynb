{
 "cells": [
  {
   "cell_type": "markdown",
   "id": "1593ee2f",
   "metadata": {},
   "source": [
    "### Importing Libraries"
   ]
  },
  {
   "cell_type": "code",
   "execution_count": 1,
   "id": "1f2ca9fb",
   "metadata": {},
   "outputs": [],
   "source": [
    "import pandas as pd\n",
    "import seaborn as sns\n",
    "import matplotlib.pyplot as plt\n",
    "from sklearn.model_selection import train_test_split\n",
    "from sklearn.tree import DecisionTreeClassifier\n",
    "from sklearn.metrics import accuracy_score,confusion_matrix,roc_curve,auc"
   ]
  },
  {
   "cell_type": "markdown",
   "id": "698a3f87",
   "metadata": {},
   "source": [
    "### Read Data"
   ]
  },
  {
   "cell_type": "code",
   "execution_count": 2,
   "id": "59b477ec",
   "metadata": {},
   "outputs": [],
   "source": [
    "data = pd.read_csv(\"iphone_purchase_records.csv\")"
   ]
  },
  {
   "cell_type": "code",
   "execution_count": 3,
   "id": "4315589d",
   "metadata": {},
   "outputs": [
    {
     "name": "stdout",
     "output_type": "stream",
     "text": [
      "   Gender  Age  Salary  Purchase Iphone\n",
      "0    Male   19   19000                0\n",
      "1    Male   35   20000                0\n",
      "2  Female   26   43000                0\n",
      "3  Female   27   57000                0\n",
      "4    Male   19   76000                0\n"
     ]
    }
   ],
   "source": [
    "print(data.head())"
   ]
  },
  {
   "cell_type": "code",
   "execution_count": 4,
   "id": "7eab4900",
   "metadata": {},
   "outputs": [
    {
     "name": "stdout",
     "output_type": "stream",
     "text": [
      "(400, 4)\n"
     ]
    }
   ],
   "source": [
    "print(data.shape)"
   ]
  },
  {
   "cell_type": "markdown",
   "id": "cf18b333",
   "metadata": {},
   "source": [
    "### Checking Columns"
   ]
  },
  {
   "cell_type": "code",
   "execution_count": 5,
   "id": "32963ea5",
   "metadata": {},
   "outputs": [
    {
     "name": "stdout",
     "output_type": "stream",
     "text": [
      "Index(['Gender', 'Age', 'Salary', 'Purchase Iphone'], dtype='object')\n"
     ]
    }
   ],
   "source": [
    "print(data.columns)"
   ]
  },
  {
   "cell_type": "code",
   "execution_count": 6,
   "id": "238d916e",
   "metadata": {},
   "outputs": [
    {
     "name": "stdout",
     "output_type": "stream",
     "text": [
      "<class 'pandas.core.frame.DataFrame'>\n",
      "RangeIndex: 400 entries, 0 to 399\n",
      "Data columns (total 4 columns):\n",
      " #   Column           Non-Null Count  Dtype \n",
      "---  ------           --------------  ----- \n",
      " 0   Gender           400 non-null    object\n",
      " 1   Age              400 non-null    int64 \n",
      " 2   Salary           400 non-null    int64 \n",
      " 3   Purchase Iphone  400 non-null    int64 \n",
      "dtypes: int64(3), object(1)\n",
      "memory usage: 12.6+ KB\n",
      "None\n"
     ]
    }
   ],
   "source": [
    "print(data.info())"
   ]
  },
  {
   "cell_type": "code",
   "execution_count": 7,
   "id": "4d3a9cf9",
   "metadata": {},
   "outputs": [
    {
     "name": "stdout",
     "output_type": "stream",
     "text": [
      "              Age         Salary  Purchase Iphone\n",
      "count  400.000000     400.000000       400.000000\n",
      "mean    37.655000   69742.500000         0.357500\n",
      "std     10.482877   34096.960282         0.479864\n",
      "min     18.000000   15000.000000         0.000000\n",
      "25%     29.750000   43000.000000         0.000000\n",
      "50%     37.000000   70000.000000         0.000000\n",
      "75%     46.000000   88000.000000         1.000000\n",
      "max     60.000000  150000.000000         1.000000\n"
     ]
    }
   ],
   "source": [
    "print(data.describe())"
   ]
  },
  {
   "cell_type": "markdown",
   "id": "ef4c5728",
   "metadata": {},
   "source": [
    "### Checking for the null values"
   ]
  },
  {
   "cell_type": "code",
   "execution_count": 8,
   "id": "a40bcd3f",
   "metadata": {},
   "outputs": [
    {
     "name": "stdout",
     "output_type": "stream",
     "text": [
      "Gender             0\n",
      "Age                0\n",
      "Salary             0\n",
      "Purchase Iphone    0\n",
      "dtype: int64\n"
     ]
    }
   ],
   "source": [
    "print(data.isnull().sum())"
   ]
  },
  {
   "cell_type": "markdown",
   "id": "dbae9b7d",
   "metadata": {},
   "source": [
    "### Corelation works on  only with numerical data.\n",
    "### Drop the Gender Column"
   ]
  },
  {
   "cell_type": "code",
   "execution_count": 9,
   "id": "cfe8e640",
   "metadata": {},
   "outputs": [
    {
     "name": "stdout",
     "output_type": "stream",
     "text": [
      "None\n"
     ]
    }
   ],
   "source": [
    "print(data.drop(columns = [\"Gender\"],inplace = True))"
   ]
  },
  {
   "cell_type": "code",
   "execution_count": 10,
   "id": "54e1f16f",
   "metadata": {},
   "outputs": [
    {
     "name": "stdout",
     "output_type": "stream",
     "text": [
      "   Age  Salary  Purchase Iphone\n",
      "0   19   19000                0\n",
      "1   35   20000                0\n",
      "2   26   43000                0\n",
      "3   27   57000                0\n",
      "4   19   76000                0\n"
     ]
    }
   ],
   "source": [
    "print(data.head())"
   ]
  },
  {
   "cell_type": "code",
   "execution_count": 11,
   "id": "219b1167",
   "metadata": {},
   "outputs": [
    {
     "name": "stdout",
     "output_type": "stream",
     "text": [
      "                      Age    Salary  Purchase Iphone\n",
      "Age              1.000000  0.155238         0.622454\n",
      "Salary           0.155238  1.000000         0.362083\n",
      "Purchase Iphone  0.622454  0.362083         1.000000\n"
     ]
    }
   ],
   "source": [
    "print(data.corr())"
   ]
  },
  {
   "cell_type": "code",
   "execution_count": 12,
   "id": "15d6383f",
   "metadata": {},
   "outputs": [
    {
     "data": {
      "image/png": "[encoded data removed]",
      "text/plain": [
       "<Figure size 640x480 with 2 Axes>"
      ]
     },
     "metadata": {},
     "output_type": "display_data"
    }
   ],
   "source": [
    "sns.heatmap(data.corr(),annot = True,vmin = -1)\n",
    "plt.show()"
   ]
  },
  {
   "cell_type": "markdown",
   "id": "1962fb2d",
   "metadata": {},
   "source": [
    "### Now our data is Ready to split"
   ]
  },
  {
   "cell_type": "code",
   "execution_count": 13,
   "id": "75ddde90",
   "metadata": {},
   "outputs": [],
   "source": [
    "#### Spliting the data into x and y\n",
    "x = data[[\"Age\",\"Salary\"]]\n",
    "y = data[\"Purchase Iphone\"]"
   ]
  },
  {
   "cell_type": "code",
   "execution_count": 14,
   "id": "6a72f3e7",
   "metadata": {},
   "outputs": [
    {
     "name": "stdout",
     "output_type": "stream",
     "text": [
      "   Age  Salary\n",
      "0   19   19000\n",
      "1   35   20000\n",
      "2   26   43000\n",
      "3   27   57000\n",
      "4   19   76000\n"
     ]
    }
   ],
   "source": [
    "print(x.head())"
   ]
  },
  {
   "cell_type": "code",
   "execution_count": 15,
   "id": "b1f018ba",
   "metadata": {},
   "outputs": [
    {
     "name": "stdout",
     "output_type": "stream",
     "text": [
      "(400, 2)\n"
     ]
    }
   ],
   "source": [
    "print(x.shape)"
   ]
  },
  {
   "cell_type": "code",
   "execution_count": 16,
   "id": "aa175a2f",
   "metadata": {},
   "outputs": [
    {
     "name": "stdout",
     "output_type": "stream",
     "text": [
      "0    0\n",
      "1    0\n",
      "2    0\n",
      "3    0\n",
      "4    0\n",
      "Name: Purchase Iphone, dtype: int64\n"
     ]
    }
   ],
   "source": [
    "print(y.head())"
   ]
  },
  {
   "cell_type": "code",
   "execution_count": 17,
   "id": "378cd3f1",
   "metadata": {},
   "outputs": [
    {
     "name": "stdout",
     "output_type": "stream",
     "text": [
      "(400,)\n"
     ]
    }
   ],
   "source": [
    "print(y.shape)"
   ]
  },
  {
   "cell_type": "markdown",
   "id": "a426089e",
   "metadata": {},
   "source": [
    "### Spliting into train_test_split"
   ]
  },
  {
   "cell_type": "code",
   "execution_count": 18,
   "id": "6b0ca20c",
   "metadata": {},
   "outputs": [],
   "source": [
    "x_train,x_test,y_train,y_test = train_test_split(x,y,test_size = 0.2,random_state = 42)"
   ]
  },
  {
   "cell_type": "code",
   "execution_count": 19,
   "id": "345cd0cf",
   "metadata": {},
   "outputs": [
    {
     "name": "stdout",
     "output_type": "stream",
     "text": [
      "(320, 2)\n"
     ]
    }
   ],
   "source": [
    "print(x_train.shape)"
   ]
  },
  {
   "cell_type": "code",
   "execution_count": 20,
   "id": "9bafb334",
   "metadata": {},
   "outputs": [
    {
     "name": "stdout",
     "output_type": "stream",
     "text": [
      "(80, 2)\n"
     ]
    }
   ],
   "source": [
    "print(x_test.shape)"
   ]
  },
  {
   "cell_type": "code",
   "execution_count": 21,
   "id": "d91da6b9",
   "metadata": {},
   "outputs": [
    {
     "name": "stdout",
     "output_type": "stream",
     "text": [
      "(320,)\n"
     ]
    }
   ],
   "source": [
    "print(y_train.shape)"
   ]
  },
  {
   "cell_type": "code",
   "execution_count": 22,
   "id": "6c8dfadf",
   "metadata": {},
   "outputs": [
    {
     "name": "stdout",
     "output_type": "stream",
     "text": [
      "(80,)\n"
     ]
    }
   ],
   "source": [
    "print(y_test.shape)"
   ]
  },
  {
   "cell_type": "code",
   "execution_count": 23,
   "id": "0627d1d9",
   "metadata": {},
   "outputs": [
    {
     "name": "stdout",
     "output_type": "stream",
     "text": [
      "Model is Loaded\n"
     ]
    }
   ],
   "source": [
    "model = DecisionTreeClassifier(criterion = \"entropy\",random_state = 123)\n",
    "print(\"Model is Loaded\")"
   ]
  },
  {
   "cell_type": "code",
   "execution_count": 24,
   "id": "24906f4e",
   "metadata": {},
   "outputs": [
    {
     "name": "stdout",
     "output_type": "stream",
     "text": [
      "Model is learn\n"
     ]
    }
   ],
   "source": [
    "model_fit = model.fit(x_train,y_train)\n",
    "print(\"Model is learn\")"
   ]
  },
  {
   "cell_type": "markdown",
   "id": "e36030eb",
   "metadata": {},
   "source": [
    "### Predicted by Matrix"
   ]
  },
  {
   "cell_type": "code",
   "execution_count": 25,
   "id": "5a765506",
   "metadata": {},
   "outputs": [
    {
     "name": "stdout",
     "output_type": "stream",
     "text": [
      "[1 1 0 0 0 0 1 0 0 0 0 1 0 0 0 1 1 1 0 1 0 0 1 1 0 1 1 0 1 0 0 0 1 0 1 0 0\n",
      " 0 0 0 1 0 0 1 0 1 0 0 0 0 0 0 0 0 0 0 1 1 0 0 0 0 1 0 0 1 1 0 0 1 0 0 0 0\n",
      " 1 0 1 1 0 0]\n"
     ]
    }
   ],
   "source": [
    "pred = model.predict(x_test)\n",
    "print(pred)"
   ]
  },
  {
   "cell_type": "markdown",
   "id": "dd35d13f",
   "metadata": {},
   "source": [
    "### Checking the Accuracy of the the testing data by Confusion matrix"
   ]
  },
  {
   "cell_type": "code",
   "execution_count": 26,
   "id": "d7c47b86",
   "metadata": {},
   "outputs": [
    {
     "data": {
      "text/plain": [
       "array([[46,  6],\n",
       "       [ 7, 21]], dtype=int64)"
      ]
     },
     "execution_count": 26,
     "metadata": {},
     "output_type": "execute_result"
    }
   ],
   "source": [
    "confusion_matrix(y_test,pred)"
   ]
  },
  {
   "cell_type": "code",
   "execution_count": 27,
   "id": "5ad63bce",
   "metadata": {},
   "outputs": [
    {
     "data": {
      "text/plain": [
       "0.8375"
      ]
     },
     "execution_count": 27,
     "metadata": {},
     "output_type": "execute_result"
    }
   ],
   "source": [
    "accuracy_score(y_test,pred)"
   ]
  },
  {
   "cell_type": "markdown",
   "id": "54eb49d2",
   "metadata": {},
   "source": [
    "### Pridicted by AUC_ROC Curve"
   ]
  },
  {
   "cell_type": "code",
   "execution_count": 28,
   "id": "c12d7974",
   "metadata": {},
   "outputs": [],
   "source": [
    "pred1 = model.predict_proba(x_test)[:,1]"
   ]
  },
  {
   "cell_type": "code",
   "execution_count": 29,
   "id": "aadc8786",
   "metadata": {},
   "outputs": [
    {
     "name": "stdout",
     "output_type": "stream",
     "text": [
      "[1. 1. 0. 0. 0. 0. 1. 0. 0. 0. 0. 1. 0. 0. 0. 1. 1. 1. 0. 1. 0. 0. 1. 1.\n",
      " 0. 1. 1. 0. 1. 0. 0. 0. 1. 0. 1. 0. 0. 0. 0. 0. 1. 0. 0. 1. 0. 1. 0. 0.\n",
      " 0. 0. 0. 0. 0. 0. 0. 0. 1. 1. 0. 0. 0. 0. 1. 0. 0. 1. 1. 0. 0. 1. 0. 0.\n",
      " 0. 0. 1. 0. 1. 1. 0. 0.]\n"
     ]
    }
   ],
   "source": [
    "print(pred1)"
   ]
  },
  {
   "cell_type": "code",
   "execution_count": 30,
   "id": "3d051ce3",
   "metadata": {},
   "outputs": [
    {
     "name": "stdout",
     "output_type": "stream",
     "text": [
      "     Actual  decision_Tree\n",
      "209       0            1.0\n",
      "280       1            1.0\n",
      "33        0            0.0\n",
      "210       1            0.0\n",
      "93        0            0.0\n",
      "..      ...            ...\n",
      "246       0            0.0\n",
      "227       1            1.0\n",
      "369       1            1.0\n",
      "176       0            0.0\n",
      "289       1            0.0\n",
      "\n",
      "[80 rows x 2 columns]\n"
     ]
    }
   ],
   "source": [
    "### Create a dataframe\n",
    "test_df = pd.DataFrame({\"Actual\":y_test,\"decision_Tree\":pred1})\n",
    "print(test_df)"
   ]
  },
  {
   "cell_type": "markdown",
   "id": "6d3d2295",
   "metadata": {},
   "source": [
    "### Checking the Accuracy of the testing data by AUC_ROC_CURVE"
   ]
  },
  {
   "cell_type": "code",
   "execution_count": 31,
   "id": "fce1c4c7",
   "metadata": {},
   "outputs": [
    {
     "name": "stdout",
     "output_type": "stream",
     "text": [
      "decision_Tree\n",
      "0.8173076923076922\n"
     ]
    }
   ],
   "source": [
    "for model1 in [\"decision_Tree\"]:\n",
    "    fpr,tpr,thresh = roc_curve(test_df[\"Actual\"],test_df[model1])\n",
    "    print(model1)\n",
    "    auc_roc = auc(fpr,tpr)\n",
    "    print(auc_roc)"
   ]
  },
  {
   "cell_type": "code",
   "execution_count": 32,
   "id": "58056721",
   "metadata": {},
   "outputs": [
    {
     "data": {
      "image/png": "[encoded data removed]",
      "text/plain": [
       "<Figure size 640x480 with 1 Axes>"
      ]
     },
     "metadata": {},
     "output_type": "display_data"
    }
   ],
   "source": [
    "for model1 in [\"decision_Tree\"]:\n",
    "    fpr,tpr,thresh = roc_curve(test_df[\"Actual\"],test_df[model1])\n",
    "    roc_auc = auc(fpr,tpr)\n",
    "    plt.plot(fpr,tpr,label = f'{model1}')\n",
    "    plt.plot([0,1],\"r--\",label = \"Random\")\n",
    "    plt.legend()\n",
    "    plt.show()"
   ]
  },
  {
   "cell_type": "code",
   "execution_count": null,
   "id": "0a7dae73",
   "metadata": {},
   "outputs": [],
   "source": []
  },
  {
   "cell_type": "code",
   "execution_count": null,
   "id": "f608a124",
   "metadata": {},
   "outputs": [],
   "source": []
  }
 ],
 "metadata": {
  "kernelspec": {
   "display_name": "Python 3 (ipykernel)",
   "language": "python",
   "name": "python3"
  },
  "language_info": {
   "codemirror_mode": {
    "name": "ipython",
    "version": 3
   },
   "file_extension": ".py",
   "mimetype": "text/x-python",
   "name": "python",
   "nbconvert_exporter": "python",
   "pygments_lexer": "ipython3",
   "version": "3.11.4"
  }
 },
 "nbformat": 4,
 "nbformat_minor": 5
}
